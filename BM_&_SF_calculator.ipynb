{
  "nbformat": 4,
  "nbformat_minor": 0,
  "metadata": {
    "colab": {
      "private_outputs": true,
      "provenance": [],
      "authorship_tag": "ABX9TyPJN3yYO//nAvJEkPx0mr0c"
    },
    "kernelspec": {
      "name": "python3",
      "display_name": "Python 3"
    },
    "language_info": {
      "name": "python"
    }
  },
  "cells": [
    {
      "cell_type": "code",
      "source": [
        "import numpy as np\n",
        "import matplotlib.pyplot as plt\n",
        "\n",
        "# ---------------------------\n",
        "# Helper functions for input\n",
        "# ---------------------------\n",
        "def get_float(prompt, default=None):\n",
        "    while True:\n",
        "        s = input(prompt)\n",
        "        if s.strip() == \"\" and default is not None:\n",
        "            return default\n",
        "        try:\n",
        "            return float(s)\n",
        "        except ValueError:\n",
        "            print(\"Invalid number. Please try again.\")\n",
        "\n",
        "def get_choice(prompt, choices, default=None):\n",
        "    choices = [str(c).lower() for c in choices]\n",
        "    while True:\n",
        "        s = input(prompt)\n",
        "        if s.strip() == \"\" and default is not None:\n",
        "            return default.lower()\n",
        "        if s.lower() in choices:\n",
        "            return s.lower()\n",
        "        print(\"Choose one of: \" + \", \".join(choices))"
      ],
      "metadata": {
        "id": "rmFAwhq0R1Bi"
      },
      "execution_count": null,
      "outputs": []
    },
    {
      "cell_type": "markdown",
      "source": [
        "### Step 1: Beam Properties"
      ],
      "metadata": {
        "id": "JY4pTEb6R_Pa"
      }
    },
    {
      "cell_type": "code",
      "source": [
        "print(\"=== Beam Properties ===\")\n",
        "L = get_float(\"Enter beam length L (m): \")\n",
        "b_dim = get_float(\"Enter beam width b (m): \")\n",
        "h_dim = get_float(\"Enter beam height h (m): \")\n",
        "\n",
        "# For a rectangular cross section, moment of inertia:\n",
        "I = (b_dim * h_dim**3) / 12\n",
        "print(f\"Calculated moment of inertia I = {I:.4f} m^4\")"
      ],
      "metadata": {
        "id": "J3G5uv3nR6du"
      },
      "execution_count": null,
      "outputs": []
    },
    {
      "cell_type": "markdown",
      "source": [
        "### Step 2: Support Conditions"
      ],
      "metadata": {
        "id": "ob2ieZy8SL-j"
      }
    },
    {
      "cell_type": "code",
      "source": [
        "print(\"\\n=== Support Conditions ===\")\n",
        "support1 = get_float(\"Enter position of support 1 (m, measured from left, default 0): \", default=0.0)\n",
        "support2 = get_float(f\"Enter position of support 2 (m, measured from left, default {L}): \", default=L)\n",
        "if support1 == support2:\n",
        "    raise ValueError(\"Supports cannot be at the same location.\")\n",
        "print(f\"Supports assumed at x = {support1:.2f} m and x = {support2:.2f} m.\")"
      ],
      "metadata": {
        "id": "rpYt7SymSFWJ"
      },
      "execution_count": null,
      "outputs": []
    },
    {
      "cell_type": "markdown",
      "source": [
        "### Step 3: Load Inputs"
      ],
      "metadata": {
        "id": "e2QCEXm-SdT8"
      }
    },
    {
      "cell_type": "code",
      "source": [
        "print(\"\\n=== Load Inputs ===\")\n",
        "num_loads = int(get_float(\"Enter number of loads to apply: \"))\n",
        "\n",
        "loads = []\n",
        "for i in range(num_loads):\n",
        "    print(f\"\\nLoad #{i+1}:\")\n",
        "    ltype = get_choice(\"  Enter load type ('point' or 'udl'): \", ['point', 'udl'])\n",
        "    if ltype == 'point':\n",
        "        P = get_float(\"    Enter point load magnitude (kN, positive for downward): \")\n",
        "        pos_ref = get_choice(\"    Is the position measured from Left (L) or Right (R)? \", ['L', 'R'], default='L')\n",
        "        pos_val = get_float(\"    Enter the load position (m): \")\n",
        "        if pos_ref == 'r':\n",
        "            pos = L - pos_val\n",
        "        else:\n",
        "            pos = pos_val\n",
        "        loads.append({\"type\": \"point\", \"magnitude\": P, \"position\": pos})\n",
        "    elif ltype == 'udl':\n",
        "        w = get_float(\"    Enter UDL intensity (kN/m, positive for downward): \")\n",
        "        start_udl = get_float(\"    Enter UDL start position (m from left): \")\n",
        "        end_udl = get_float(\"    Enter UDL end position (m from left): \")\n",
        "        if start_udl < 0 or end_udl > L or start_udl >= end_udl:\n",
        "            print(\"    Invalid UDL limits. Skipping this load.\")\n",
        "            continue\n",
        "        loads.append({\"type\": \"udl\", \"intensity\": w, \"start\": start_udl, \"end\": end_udl})"
      ],
      "metadata": {
        "id": "eDAcpy0KSY3Z"
      },
      "execution_count": null,
      "outputs": []
    },
    {
      "cell_type": "markdown",
      "source": [
        "### Step 4: Compute Support Reactions"
      ],
      "metadata": {
        "id": "YB_ziJCJStYe"
      }
    },
    {
      "cell_type": "code",
      "source": [
        "total_load = 0.0\n",
        "moment_total = 0.0\n",
        "\n",
        "for load in loads:\n",
        "    if load[\"type\"] == \"point\":\n",
        "        P = load[\"magnitude\"]\n",
        "        pos = load[\"position\"]\n",
        "        total_load += P\n",
        "        moment_total += P * (pos - support1)\n",
        "    elif load[\"type\"] == \"udl\":\n",
        "        w = load[\"intensity\"]\n",
        "        start_udl = load[\"start\"]\n",
        "        end_udl = load[\"end\"]\n",
        "        L_udl = end_udl - start_udl\n",
        "        load_udl = w * L_udl\n",
        "        total_load += load_udl\n",
        "        centroid = (start_udl + end_udl) / 2.0\n",
        "        moment_total += load_udl * (centroid - support1)\n",
        "\n",
        "R2 = moment_total / (support2 - support1)\n",
        "R1 = total_load - R2\n",
        "\n",
        "print(\"\\n--- Support Reactions ---\")\n",
        "print(f\"Reaction at support 1 (x = {support1} m): {R1:.3f} kN upward\")\n",
        "print(f\"Reaction at support 2 (x = {support2} m): {R2:.3f} kN upward\")"
      ],
      "metadata": {
        "id": "d17UDmQASkt3"
      },
      "execution_count": null,
      "outputs": []
    },
    {
      "cell_type": "markdown",
      "source": [
        "### Step 5: Compute Shear Force and Bending Moment Diagrams"
      ],
      "metadata": {
        "id": "R2mj0gLYS2wP"
      }
    },
    {
      "cell_type": "code",
      "source": [
        "num_points = 500\n",
        "x_vals = np.linspace(0, L, num_points)\n",
        "S = np.zeros_like(x_vals)  # Shear force array\n",
        "M = np.zeros_like(x_vals)  # Bending moment array\n",
        "\n",
        "# Contribution from support reactions (only R1):\n",
        "for i, x in enumerate(x_vals):\n",
        "    if x >= support1:\n",
        "        S[i] += R1\n",
        "        M[i] += R1 * (x - support1)\n",
        "\n",
        "# Subtract contributions from loads:\n",
        "for load in loads:\n",
        "    if load[\"type\"] == \"point\":\n",
        "        P = load[\"magnitude\"]\n",
        "        pos = load[\"position\"]\n",
        "        for i, x in enumerate(x_vals):\n",
        "            if x >= pos:\n",
        "                S[i] -= P\n",
        "                M[i] -= P * (x - pos)\n",
        "    elif load[\"type\"] == \"udl\":\n",
        "        w = load[\"intensity\"]\n",
        "        start_udl = load[\"start\"]\n",
        "        end_udl = load[\"end\"]\n",
        "        for i, x in enumerate(x_vals):\n",
        "            if x < start_udl:\n",
        "                continue\n",
        "            elif x <= end_udl:\n",
        "                length_effective = x - start_udl\n",
        "                load_effective = w * length_effective\n",
        "                S[i] -= load_effective\n",
        "                centroid = start_udl + length_effective / 2.0\n",
        "                M[i] -= load_effective * (x - centroid)\n",
        "            else:\n",
        "                load_total = w * (end_udl - start_udl)\n",
        "                S[i] -= load_total\n",
        "                centroid = (start_udl + end_udl) / 2.0\n",
        "                M[i] -= load_total * (x - centroid)"
      ],
      "metadata": {
        "id": "eiFMDSTWSzqS"
      },
      "execution_count": null,
      "outputs": []
    },
    {
      "cell_type": "markdown",
      "source": [
        "### Step 6: Plotting the Results"
      ],
      "metadata": {
        "id": "ANYGMb_uTBTI"
      }
    },
    {
      "cell_type": "code",
      "source": [
        "fig, axs = plt.subplots(3, 1, figsize=(8, 12), sharex=True)\n",
        "\n",
        "# Beam Diagram\n",
        "axs[0].set_title(\"Beam Diagram with Loads and Supports\")\n",
        "axs[0].hlines(0, 0, L, colors='black', linewidth=4)\n",
        "axs[0].plot(support1, 0, marker='v', markersize=12, color='blue')\n",
        "axs[0].plot(support2, 0, marker='v', markersize=12, color='blue')\n",
        "axs[0].annotate(f\"Support @ {support1:.2f} m\", (support1, 0), xytext=(support1, 0.5),\n",
        "                arrowprops=dict(arrowstyle=\"->\", color='blue'), ha='center')\n",
        "axs[0].annotate(f\"Support @ {support2:.2f} m\", (support2, 0), xytext=(support2, 0.5),\n",
        "                arrowprops=dict(arrowstyle=\"->\", color='blue'), ha='center')\n",
        "\n",
        "for load in loads:\n",
        "    if load[\"type\"] == \"point\":\n",
        "        P = load[\"magnitude\"]\n",
        "        pos = load[\"position\"]\n",
        "        arrow_length = -0.5 if P > 0 else 0.5\n",
        "        axs[0].arrow(pos, 0, 0, arrow_length, head_width=0.2, head_length=0.1, fc='red', ec='red')\n",
        "        axs[0].text(pos, arrow_length - 0.2, f\"{P} kN\", color='red', ha='center')\n",
        "    elif load[\"type\"] == \"udl\":\n",
        "        w = load[\"intensity\"]\n",
        "        start_udl = load[\"start\"]\n",
        "        end_udl = load[\"end\"]\n",
        "        rect_height = 0.3\n",
        "        axs[0].add_patch(plt.Rectangle((start_udl, 0.1), end_udl - start_udl, rect_height,\n",
        "                                       color='green', alpha=0.3))\n",
        "        axs[0].text((start_udl+end_udl)/2, 0.1+rect_height+0.1, f\"{w} kN/m\", color='green', ha='center')\n",
        "\n",
        "axs[0].set_ylim(-2, 2)\n",
        "axs[0].set_xlim(0, L)\n",
        "axs[0].set_ylabel(\"Beam (m)\")\n",
        "axs[0].grid(True)\n",
        "\n",
        "# Shear Force Diagram\n",
        "axs[1].set_title(\"Shear Force Diagram\")\n",
        "axs[1].hlines(0, 0, L, colors='black', linewidth=2)\n",
        "axs[1].plot(x_vals, S, 'b-', linewidth=2)\n",
        "axs[1].fill_between(x_vals, S, 0, where=S < 0, color='blue', alpha=0.3)\n",
        "axs[1].fill_between(x_vals, S, 0, where=S > 0, color='blue', alpha=0.3)\n",
        "axs[1].set_ylabel(\"Shear (kN)\")\n",
        "axs[1].grid(True)\n",
        "\n",
        "# Bending Moment Diagram\n",
        "axs[2].set_title(\"Bending Moment Diagram (Below the Beam)\")\n",
        "axs[2].hlines(0, 0, L, colors='black', linewidth=2)\n",
        "BM_offset = -max(abs(M)) * 0.1 if max(abs(M)) != 0 else 0\n",
        "axs[2].plot(x_vals, M + BM_offset, 'r-', linewidth=2)\n",
        "axs[2].fill_between(x_vals, M + BM_offset, BM_offset, color='red', alpha=0.3)\n",
        "axs[2].set_ylabel(\"Bending Moment (kN·m)\")\n",
        "axs[2].set_xlabel(\"x (m)\")\n",
        "axs[2].grid(True)\n",
        "\n",
        "plt.tight_layout()\n",
        "plt.show()"
      ],
      "metadata": {
        "id": "OSoNiIhES9MG"
      },
      "execution_count": null,
      "outputs": []
    },
    {
      "cell_type": "markdown",
      "source": [
        "### Step 7: Print Final Results"
      ],
      "metadata": {
        "id": "YywDjf4fTjKE"
      }
    },
    {
      "cell_type": "code",
      "source": [
        "print(\"\\n=== Final Results ===\")\n",
        "print(f\"Left Support Reaction at x = {support1} m: {R1:.3f} kN upward\")\n",
        "print(f\"Right Support Reaction at x = {support2} m: {R2:.3f} kN upward\")"
      ],
      "metadata": {
        "id": "IGXN6bl1THrV"
      },
      "execution_count": null,
      "outputs": []
    },
    {
      "cell_type": "code",
      "source": [],
      "metadata": {
        "id": "l57DcCQgTnto"
      },
      "execution_count": null,
      "outputs": []
    }
  ]
}